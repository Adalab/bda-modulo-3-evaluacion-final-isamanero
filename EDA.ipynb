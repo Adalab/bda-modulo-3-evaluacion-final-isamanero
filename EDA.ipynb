{
 "cells": [
  {
   "cell_type": "markdown",
   "metadata": {},
   "source": [
    "# Evaluación Módulo 3 : Programa lealtad de una aerolínea"
   ]
  },
  {
   "cell_type": "markdown",
   "metadata": {},
   "source": [
    "## FASE 1: EDA:Exploración inicial de los datos"
   ]
  },
  {
   "cell_type": "markdown",
   "metadata": {},
   "source": [
    "### Liberías y carga de datos"
   ]
  },
  {
   "cell_type": "code",
   "execution_count": 1,
   "metadata": {},
   "outputs": [],
   "source": [
    "# En primer lugar, importamos las librerías que nos harán falta, desde el soporte:\n",
    "\n",
    "# Para tratamiento de datos\n",
    "\n",
    "import pandas as pd \n",
    "import numpy as np \n",
    "\n",
    "# Procesos de imputación\n",
    "\n",
    "from sklearn.impute import SimpleImputer\n",
    "from sklearn.experimental import enable_iterative_imputer\n",
    "from sklearn.impute import IterativeImputer\n",
    "from sklearn.impute import KNNImputer\n",
    "\n",
    "# Visuaicación de resultados\n",
    "\n",
    "import matplotlib.pyplot as plt\n",
    "import seaborn as sns\n",
    "\n",
    "pd.set_option('display.max_columns', None) "
   ]
  },
  {
   "cell_type": "code",
   "execution_count": 2,
   "metadata": {},
   "outputs": [
    {
     "data": {
      "text/html": [
       "<div>\n",
       "<style scoped>\n",
       "    .dataframe tbody tr th:only-of-type {\n",
       "        vertical-align: middle;\n",
       "    }\n",
       "\n",
       "    .dataframe tbody tr th {\n",
       "        vertical-align: top;\n",
       "    }\n",
       "\n",
       "    .dataframe thead th {\n",
       "        text-align: right;\n",
       "    }\n",
       "</style>\n",
       "<table border=\"1\" class=\"dataframe\">\n",
       "  <thead>\n",
       "    <tr style=\"text-align: right;\">\n",
       "      <th></th>\n",
       "      <th>Loyalty Number</th>\n",
       "      <th>Year</th>\n",
       "      <th>Month</th>\n",
       "      <th>Flights Booked</th>\n",
       "      <th>Flights with Companions</th>\n",
       "      <th>Total Flights</th>\n",
       "      <th>Distance</th>\n",
       "      <th>Points Accumulated</th>\n",
       "      <th>Points Redeemed</th>\n",
       "      <th>Dollar Cost Points Redeemed</th>\n",
       "    </tr>\n",
       "  </thead>\n",
       "  <tbody>\n",
       "    <tr>\n",
       "      <th>0</th>\n",
       "      <td>100018</td>\n",
       "      <td>2017</td>\n",
       "      <td>1</td>\n",
       "      <td>3</td>\n",
       "      <td>0</td>\n",
       "      <td>3</td>\n",
       "      <td>1521</td>\n",
       "      <td>152.0</td>\n",
       "      <td>0</td>\n",
       "      <td>0</td>\n",
       "    </tr>\n",
       "    <tr>\n",
       "      <th>1</th>\n",
       "      <td>100102</td>\n",
       "      <td>2017</td>\n",
       "      <td>1</td>\n",
       "      <td>10</td>\n",
       "      <td>4</td>\n",
       "      <td>14</td>\n",
       "      <td>2030</td>\n",
       "      <td>203.0</td>\n",
       "      <td>0</td>\n",
       "      <td>0</td>\n",
       "    </tr>\n",
       "  </tbody>\n",
       "</table>\n",
       "</div>"
      ],
      "text/plain": [
       "   Loyalty Number  Year  Month  Flights Booked  Flights with Companions  \\\n",
       "0          100018  2017      1               3                        0   \n",
       "1          100102  2017      1              10                        4   \n",
       "\n",
       "   Total Flights  Distance  Points Accumulated  Points Redeemed  \\\n",
       "0              3      1521               152.0                0   \n",
       "1             14      2030               203.0                0   \n",
       "\n",
       "   Dollar Cost Points Redeemed  \n",
       "0                            0  \n",
       "1                            0  "
      ]
     },
     "execution_count": 2,
     "metadata": {},
     "output_type": "execute_result"
    }
   ],
   "source": [
    "# Carga de csv (1):\n",
    "\n",
    "df_flight = pd.read_csv(\"files/Customer_Flight_Activity.csv\")\n",
    "\n",
    "df_flight.head(2)"
   ]
  },
  {
   "cell_type": "code",
   "execution_count": 3,
   "metadata": {},
   "outputs": [
    {
     "data": {
      "text/html": [
       "<div>\n",
       "<style scoped>\n",
       "    .dataframe tbody tr th:only-of-type {\n",
       "        vertical-align: middle;\n",
       "    }\n",
       "\n",
       "    .dataframe tbody tr th {\n",
       "        vertical-align: top;\n",
       "    }\n",
       "\n",
       "    .dataframe thead th {\n",
       "        text-align: right;\n",
       "    }\n",
       "</style>\n",
       "<table border=\"1\" class=\"dataframe\">\n",
       "  <thead>\n",
       "    <tr style=\"text-align: right;\">\n",
       "      <th></th>\n",
       "      <th>Loyalty Number</th>\n",
       "      <th>Country</th>\n",
       "      <th>Province</th>\n",
       "      <th>City</th>\n",
       "      <th>Postal Code</th>\n",
       "      <th>Gender</th>\n",
       "      <th>Education</th>\n",
       "      <th>Salary</th>\n",
       "      <th>Marital Status</th>\n",
       "      <th>Loyalty Card</th>\n",
       "      <th>CLV</th>\n",
       "      <th>Enrollment Type</th>\n",
       "      <th>Enrollment Year</th>\n",
       "      <th>Enrollment Month</th>\n",
       "      <th>Cancellation Year</th>\n",
       "      <th>Cancellation Month</th>\n",
       "    </tr>\n",
       "  </thead>\n",
       "  <tbody>\n",
       "    <tr>\n",
       "      <th>0</th>\n",
       "      <td>480934</td>\n",
       "      <td>Canada</td>\n",
       "      <td>Ontario</td>\n",
       "      <td>Toronto</td>\n",
       "      <td>M2Z 4K1</td>\n",
       "      <td>Female</td>\n",
       "      <td>Bachelor</td>\n",
       "      <td>83236.0</td>\n",
       "      <td>Married</td>\n",
       "      <td>Star</td>\n",
       "      <td>3839.14</td>\n",
       "      <td>Standard</td>\n",
       "      <td>2016</td>\n",
       "      <td>2</td>\n",
       "      <td>NaN</td>\n",
       "      <td>NaN</td>\n",
       "    </tr>\n",
       "    <tr>\n",
       "      <th>1</th>\n",
       "      <td>549612</td>\n",
       "      <td>Canada</td>\n",
       "      <td>Alberta</td>\n",
       "      <td>Edmonton</td>\n",
       "      <td>T3G 6Y6</td>\n",
       "      <td>Male</td>\n",
       "      <td>College</td>\n",
       "      <td>NaN</td>\n",
       "      <td>Divorced</td>\n",
       "      <td>Star</td>\n",
       "      <td>3839.61</td>\n",
       "      <td>Standard</td>\n",
       "      <td>2016</td>\n",
       "      <td>3</td>\n",
       "      <td>NaN</td>\n",
       "      <td>NaN</td>\n",
       "    </tr>\n",
       "  </tbody>\n",
       "</table>\n",
       "</div>"
      ],
      "text/plain": [
       "   Loyalty Number Country Province      City Postal Code  Gender Education  \\\n",
       "0          480934  Canada  Ontario   Toronto     M2Z 4K1  Female  Bachelor   \n",
       "1          549612  Canada  Alberta  Edmonton     T3G 6Y6    Male   College   \n",
       "\n",
       "    Salary Marital Status Loyalty Card      CLV Enrollment Type  \\\n",
       "0  83236.0        Married         Star  3839.14        Standard   \n",
       "1      NaN       Divorced         Star  3839.61        Standard   \n",
       "\n",
       "   Enrollment Year  Enrollment Month  Cancellation Year  Cancellation Month  \n",
       "0             2016                 2                NaN                 NaN  \n",
       "1             2016                 3                NaN                 NaN  "
      ]
     },
     "execution_count": 3,
     "metadata": {},
     "output_type": "execute_result"
    }
   ],
   "source": [
    "# Carga de csv (2) :\n",
    "\n",
    "df_loyalty = pd.read_csv(\"files/Customer_Loyalty_History.csv\")\n",
    "\n",
    "df_loyalty.head(2)\n"
   ]
  },
  {
   "cell_type": "markdown",
   "metadata": {},
   "source": [
    "### EDA: Customer_Flight_Activity.csv"
   ]
  },
  {
   "cell_type": "code",
   "execution_count": 4,
   "metadata": {},
   "outputs": [
    {
     "data": {
      "text/plain": [
       "(405624, 10)"
      ]
     },
     "execution_count": 4,
     "metadata": {},
     "output_type": "execute_result"
    }
   ],
   "source": [
    "# Forma del conjunto de daro: (filas, columnas)\n",
    "\n",
    "df_flight.shape"
   ]
  },
  {
   "cell_type": "code",
   "execution_count": 5,
   "metadata": {},
   "outputs": [
    {
     "data": {
      "text/plain": [
       "Loyalty Number                 0.0\n",
       "Year                           0.0\n",
       "Month                          0.0\n",
       "Flights Booked                 0.0\n",
       "Flights with Companions        0.0\n",
       "Total Flights                  0.0\n",
       "Distance                       0.0\n",
       "Points Accumulated             0.0\n",
       "Points Redeemed                0.0\n",
       "Dollar Cost Points Redeemed    0.0\n",
       "dtype: float64"
      ]
     },
     "execution_count": 5,
     "metadata": {},
     "output_type": "execute_result"
    }
   ],
   "source": [
    "# Porcentaje de nulos por columna\n",
    "\n",
    "df_flight.isna().sum()/df_flight.shape[0]*100"
   ]
  },
  {
   "cell_type": "code",
   "execution_count": 6,
   "metadata": {},
   "outputs": [
    {
     "data": {
      "text/plain": [
       "np.int64(1864)"
      ]
     },
     "execution_count": 6,
     "metadata": {},
     "output_type": "execute_result"
    }
   ],
   "source": [
    "# Duplicados totales del conjunto de datos\n",
    "\n",
    "df_flight.duplicated().sum()"
   ]
  },
  {
   "cell_type": "code",
   "execution_count": 7,
   "metadata": {},
   "outputs": [
    {
     "data": {
      "text/html": [
       "<div>\n",
       "<style scoped>\n",
       "    .dataframe tbody tr th:only-of-type {\n",
       "        vertical-align: middle;\n",
       "    }\n",
       "\n",
       "    .dataframe tbody tr th {\n",
       "        vertical-align: top;\n",
       "    }\n",
       "\n",
       "    .dataframe thead th {\n",
       "        text-align: right;\n",
       "    }\n",
       "</style>\n",
       "<table border=\"1\" class=\"dataframe\">\n",
       "  <thead>\n",
       "    <tr style=\"text-align: right;\">\n",
       "      <th></th>\n",
       "      <th>Loyalty Number</th>\n",
       "      <th>Year</th>\n",
       "      <th>Month</th>\n",
       "      <th>Flights Booked</th>\n",
       "      <th>Flights with Companions</th>\n",
       "      <th>Total Flights</th>\n",
       "      <th>Distance</th>\n",
       "      <th>Points Accumulated</th>\n",
       "      <th>Points Redeemed</th>\n",
       "      <th>Dollar Cost Points Redeemed</th>\n",
       "    </tr>\n",
       "  </thead>\n",
       "  <tbody>\n",
       "    <tr>\n",
       "      <th>169010</th>\n",
       "      <td>100018</td>\n",
       "      <td>2017</td>\n",
       "      <td>11</td>\n",
       "      <td>13</td>\n",
       "      <td>1</td>\n",
       "      <td>14</td>\n",
       "      <td>3374</td>\n",
       "      <td>337.0</td>\n",
       "      <td>0</td>\n",
       "      <td>0</td>\n",
       "    </tr>\n",
       "    <tr>\n",
       "      <th>135208</th>\n",
       "      <td>100018</td>\n",
       "      <td>2017</td>\n",
       "      <td>9</td>\n",
       "      <td>9</td>\n",
       "      <td>4</td>\n",
       "      <td>13</td>\n",
       "      <td>1651</td>\n",
       "      <td>165.0</td>\n",
       "      <td>0</td>\n",
       "      <td>0</td>\n",
       "    </tr>\n",
       "    <tr>\n",
       "      <th>50703</th>\n",
       "      <td>100018</td>\n",
       "      <td>2017</td>\n",
       "      <td>4</td>\n",
       "      <td>4</td>\n",
       "      <td>0</td>\n",
       "      <td>4</td>\n",
       "      <td>924</td>\n",
       "      <td>92.0</td>\n",
       "      <td>0</td>\n",
       "      <td>0</td>\n",
       "    </tr>\n",
       "  </tbody>\n",
       "</table>\n",
       "</div>"
      ],
      "text/plain": [
       "        Loyalty Number  Year  Month  Flights Booked  Flights with Companions  \\\n",
       "169010          100018  2017     11              13                        1   \n",
       "135208          100018  2017      9               9                        4   \n",
       "50703           100018  2017      4               4                        0   \n",
       "\n",
       "        Total Flights  Distance  Points Accumulated  Points Redeemed  \\\n",
       "169010             14      3374               337.0                0   \n",
       "135208             13      1651               165.0                0   \n",
       "50703               4       924                92.0                0   \n",
       "\n",
       "        Dollar Cost Points Redeemed  \n",
       "169010                            0  \n",
       "135208                            0  \n",
       "50703                             0  "
      ]
     },
     "execution_count": 7,
     "metadata": {},
     "output_type": "execute_result"
    }
   ],
   "source": [
    "\"\"\"Muestra de duplicados del conjunto de datos, de la columna \"Loyalty Number\", que es la columna\n",
    "que podría causar conflictos, ya que representa un identificador único\"\"\"\n",
    "\n",
    "# Seguimos con el EDA, también del archivo: Customer_Loyalty_History.csv antes de tomar decisiones\n",
    "\n",
    "df_flight[df_flight.duplicated(subset=\"Loyalty Number\", keep=False)].sort_values(\"Loyalty Number\").head(3)"
   ]
  },
  {
   "cell_type": "code",
   "execution_count": 8,
   "metadata": {},
   "outputs": [],
   "source": [
    "# Revisión de columnas\n",
    "\n",
    "def revision_columnas(df):\n",
    "\n",
    "    for c in df.columns:\n",
    "        \n",
    "        print(f\"Valores únicos en la columna '{c}':\\n{df[c].unique()}\\n\")\n"
   ]
  },
  {
   "cell_type": "code",
   "execution_count": 9,
   "metadata": {},
   "outputs": [
    {
     "name": "stdout",
     "output_type": "stream",
     "text": [
      "Valores únicos en la columna 'Loyalty Number':\n",
      "[100018 100102 100140 ... 999731 999788 999891]\n",
      "\n",
      "Valores únicos en la columna 'Year':\n",
      "[2017 2018]\n",
      "\n",
      "Valores únicos en la columna 'Month':\n",
      "[ 1  9  2  3 11  4  5  7  6  8 10 12]\n",
      "\n",
      "Valores únicos en la columna 'Flights Booked':\n",
      "[ 3 10  6  0  8 11  9  4  7  5  2  1 12 13 14 16 15 17 18 19 20 21]\n",
      "\n",
      "Valores únicos en la columna 'Flights with Companions':\n",
      "[ 0  4  7  1  6  3  5  2 10  8  9 11]\n",
      "\n",
      "Valores únicos en la columna 'Total Flights':\n",
      "[ 3 14  6  0 15 11 12 10  8  9  7  5 16  2  1 17 13 22  4 19 18 21 26 20\n",
      " 23 25 27 24 28 30 29 31 32]\n",
      "\n",
      "Valores únicos en la columna 'Distance':\n",
      "[1521 2030 1200 ... 1217  617 4135]\n",
      "\n",
      "Valores únicos en la columna 'Points Accumulated':\n",
      "[152.   203.   120.   ...  18.75 601.   626.  ]\n",
      "\n",
      "Valores únicos en la columna 'Points Redeemed':\n",
      "[  0 341 364 310 445 312 343 366 389 292 447 324 456 409 436 327 322 291\n",
      " 323 300 290 309 325 386 321 363 340 670 443 517 444 328 344 367 313 333\n",
      " 293 449 297 455 372 356 405 381 466 419 369 352 482 335 329 305 415 396\n",
      " 317 348 314 334 350 330 318 298 420 336 471 680 441 353 484 301 374 417\n",
      " 501 299 398 307 368 306 347 439 395 481 337 382 426 373 399 424 326 392\n",
      " 438 467 480 448 308 400 376 375 460 339 385 611 431 320 362 404 442 410\n",
      " 361 319 435 414 464 477 315 485 370 421 349 371 416 496 510 667 465 434\n",
      " 346 487 408 500 360 378 345 358 479 380 411 491 505 446 425 476 393 418\n",
      " 332 401 454 303 594 506 355 302 403 379 437 561 483 597 391 562 342 407\n",
      " 490 468 488 457 365 357 463 388 413 351 462 440 493 507 338 377 428 525\n",
      " 390 473 359 423 519 453 522 429 450 383 469 402 354 422 458 384 656 461\n",
      " 427 478 523 719 538 515 394 472 433 387 540 530 498 512 452 311 470 541\n",
      " 331 570 527 658 494 638 486 509 316 492 536 502 551 504 304 296 294 495\n",
      " 432 526 459 589 529 586 537 503 552 779 516 639 474 547 542 557 406 563\n",
      " 511 518 532 553 508 560 676 716 593 513 499 566 497 546 451 533 489 708\n",
      " 531 567 521 412 430 610 528 556 582 720 397 578 772 571 534 539 576 585\n",
      " 520 601 598 630 524 588 550 514 573 544 669 577 580 591 614 574 579 595\n",
      " 618 776 548 602 543 581 572 607 603 564 620 615 636 575 584 559 648 590\n",
      " 545 627 608 568 625 637 632 650 600 613 621 535 587 475 592 624 619 554\n",
      " 583 628 558 664 789 635 617 699 604 646 659 616 704 569 626 609 751 599\n",
      " 644 800 677 666 596 612 629 657 675 702 683 633 811 688 565 706 605 549\n",
      " 662 660 295 673 555 631 715 651 697 792 678 655 707 668 687 622 642 781\n",
      " 695 711 701 721 623 693 692 640 665 684 745 808 746 749 694 643 725 850\n",
      " 703 726 691 740 737 689 765 649 690 661 696 682 700 750 771 798 710 736\n",
      " 757 743 654 758 647 606 718 739 814 761 783 679 766 777 799 723 653 730\n",
      " 681 760 793 742 685 734 839 782 735 756 795 728 780 802 815 851 820 770\n",
      " 705 738 645 686 755 754 778 671 634 762 784 717 797 744 672 768 790 741\n",
      " 824 748 674 825 794 845 827 801 714 731 724 876 747 663 709 823 791 804\n",
      " 832 698 727 833 810 864 753 840 722 641 822 834 844 865 869 733 828 773\n",
      " 713 821 849 767 759 729 803 838 775 818 843 830 847 872 809 786 812 785\n",
      " 841 752 712 816 289 652 787 852 848 769 846 870 871 796 807 774 805 763\n",
      " 806 836 837 857 813 873 732 826 858 817 829 819 866 842 861 855 831 875\n",
      " 868 835 764 862 874 860 863 854 788 867 859]\n",
      "\n",
      "Valores únicos en la columna 'Dollar Cost Points Redeemed':\n",
      "[ 0 28 30 25 36 32 24 26 37 33 35 27 31 54 42 29 38 34 39 55 41 49 40 48\n",
      " 45 53 58 44 43 46 52 47 63 57 62 51 50 64 56 61 65 60 68 59 66 69 67 71\n",
      " 70]\n",
      "\n"
     ]
    }
   ],
   "source": [
    "\"\"\"Aunque no todas las columnas requieren un análisis de valores únicos,\n",
    "se aplica unique() de forma general mediante una función para mantener un\n",
    "proceso uniforme y aprovechar la eficiencia del procesamiento en bloque.\"\"\"\n",
    "\n",
    "revision_columnas(df_flight)"
   ]
  },
  {
   "cell_type": "code",
   "execution_count": 10,
   "metadata": {},
   "outputs": [
    {
     "name": "stdout",
     "output_type": "stream",
     "text": [
      "<class 'pandas.core.frame.DataFrame'>\n",
      "RangeIndex: 405624 entries, 0 to 405623\n",
      "Data columns (total 10 columns):\n",
      " #   Column                       Non-Null Count   Dtype  \n",
      "---  ------                       --------------   -----  \n",
      " 0   Loyalty Number               405624 non-null  int64  \n",
      " 1   Year                         405624 non-null  int64  \n",
      " 2   Month                        405624 non-null  int64  \n",
      " 3   Flights Booked               405624 non-null  int64  \n",
      " 4   Flights with Companions      405624 non-null  int64  \n",
      " 5   Total Flights                405624 non-null  int64  \n",
      " 6   Distance                     405624 non-null  int64  \n",
      " 7   Points Accumulated           405624 non-null  float64\n",
      " 8   Points Redeemed              405624 non-null  int64  \n",
      " 9   Dollar Cost Points Redeemed  405624 non-null  int64  \n",
      "dtypes: float64(1), int64(9)\n",
      "memory usage: 30.9 MB\n"
     ]
    }
   ],
   "source": [
    "df_flight.info()\n",
    "\n",
    "# Los datos son de tipo \"int\" excepto puntos acumulados, que son de tipo float.\n",
    "# La documentación no especifíca, que los puntos puedan ser con decimales"
   ]
  },
  {
   "cell_type": "code",
   "execution_count": 11,
   "metadata": {},
   "outputs": [],
   "source": [
    "# Podemos hacer una búsqueda de números decimales, o si son todos enteros, convertir a int (no hay nulos).\n",
    "\n",
    "# OPCIONES: Con esta función, o haciendo un .sample() y a ojo.\n",
    "\n",
    "def tiene_decimales_reales(columna):\n",
    "    return ((columna %1)!= 0).sum()\n",
    "\n",
    "#  columna %1 --> obtiene el residuo de dividir cada valor de la columna por 1\n",
    "# y lo compara con que sea diferente a 0 con !=0\n",
    "# sum() nos saca cuantos hay\n"
   ]
  },
  {
   "cell_type": "code",
   "execution_count": 12,
   "metadata": {},
   "outputs": [
    {
     "data": {
      "text/plain": [
       "np.int64(20937)"
      ]
     },
     "execution_count": 12,
     "metadata": {},
     "output_type": "execute_result"
    }
   ],
   "source": [
    "tiene_decimales_reales(df_flight['Points Accumulated'])\n",
    "\n",
    "# Sí, esto quiere decir que hay puntos acumulados fraccionados. Tipo: \"23.5\""
   ]
  },
  {
   "cell_type": "markdown",
   "metadata": {},
   "source": [
    "### EDA: Customer_Loyalty_History.csv"
   ]
  },
  {
   "cell_type": "code",
   "execution_count": 13,
   "metadata": {},
   "outputs": [
    {
     "data": {
      "text/html": [
       "<div>\n",
       "<style scoped>\n",
       "    .dataframe tbody tr th:only-of-type {\n",
       "        vertical-align: middle;\n",
       "    }\n",
       "\n",
       "    .dataframe tbody tr th {\n",
       "        vertical-align: top;\n",
       "    }\n",
       "\n",
       "    .dataframe thead th {\n",
       "        text-align: right;\n",
       "    }\n",
       "</style>\n",
       "<table border=\"1\" class=\"dataframe\">\n",
       "  <thead>\n",
       "    <tr style=\"text-align: right;\">\n",
       "      <th></th>\n",
       "      <th>Loyalty Number</th>\n",
       "      <th>Country</th>\n",
       "      <th>Province</th>\n",
       "      <th>City</th>\n",
       "      <th>Postal Code</th>\n",
       "      <th>Gender</th>\n",
       "      <th>Education</th>\n",
       "      <th>Salary</th>\n",
       "      <th>Marital Status</th>\n",
       "      <th>Loyalty Card</th>\n",
       "      <th>CLV</th>\n",
       "      <th>Enrollment Type</th>\n",
       "      <th>Enrollment Year</th>\n",
       "      <th>Enrollment Month</th>\n",
       "      <th>Cancellation Year</th>\n",
       "      <th>Cancellation Month</th>\n",
       "    </tr>\n",
       "  </thead>\n",
       "  <tbody>\n",
       "    <tr>\n",
       "      <th>0</th>\n",
       "      <td>480934</td>\n",
       "      <td>Canada</td>\n",
       "      <td>Ontario</td>\n",
       "      <td>Toronto</td>\n",
       "      <td>M2Z 4K1</td>\n",
       "      <td>Female</td>\n",
       "      <td>Bachelor</td>\n",
       "      <td>83236.0</td>\n",
       "      <td>Married</td>\n",
       "      <td>Star</td>\n",
       "      <td>3839.14</td>\n",
       "      <td>Standard</td>\n",
       "      <td>2016</td>\n",
       "      <td>2</td>\n",
       "      <td>NaN</td>\n",
       "      <td>NaN</td>\n",
       "    </tr>\n",
       "    <tr>\n",
       "      <th>1</th>\n",
       "      <td>549612</td>\n",
       "      <td>Canada</td>\n",
       "      <td>Alberta</td>\n",
       "      <td>Edmonton</td>\n",
       "      <td>T3G 6Y6</td>\n",
       "      <td>Male</td>\n",
       "      <td>College</td>\n",
       "      <td>NaN</td>\n",
       "      <td>Divorced</td>\n",
       "      <td>Star</td>\n",
       "      <td>3839.61</td>\n",
       "      <td>Standard</td>\n",
       "      <td>2016</td>\n",
       "      <td>3</td>\n",
       "      <td>NaN</td>\n",
       "      <td>NaN</td>\n",
       "    </tr>\n",
       "    <tr>\n",
       "      <th>2</th>\n",
       "      <td>429460</td>\n",
       "      <td>Canada</td>\n",
       "      <td>British Columbia</td>\n",
       "      <td>Vancouver</td>\n",
       "      <td>V6E 3D9</td>\n",
       "      <td>Male</td>\n",
       "      <td>College</td>\n",
       "      <td>NaN</td>\n",
       "      <td>Single</td>\n",
       "      <td>Star</td>\n",
       "      <td>3839.75</td>\n",
       "      <td>Standard</td>\n",
       "      <td>2014</td>\n",
       "      <td>7</td>\n",
       "      <td>2018.0</td>\n",
       "      <td>1.0</td>\n",
       "    </tr>\n",
       "    <tr>\n",
       "      <th>3</th>\n",
       "      <td>608370</td>\n",
       "      <td>Canada</td>\n",
       "      <td>Ontario</td>\n",
       "      <td>Toronto</td>\n",
       "      <td>P1W 1K4</td>\n",
       "      <td>Male</td>\n",
       "      <td>College</td>\n",
       "      <td>NaN</td>\n",
       "      <td>Single</td>\n",
       "      <td>Star</td>\n",
       "      <td>3839.75</td>\n",
       "      <td>Standard</td>\n",
       "      <td>2013</td>\n",
       "      <td>2</td>\n",
       "      <td>NaN</td>\n",
       "      <td>NaN</td>\n",
       "    </tr>\n",
       "    <tr>\n",
       "      <th>4</th>\n",
       "      <td>530508</td>\n",
       "      <td>Canada</td>\n",
       "      <td>Quebec</td>\n",
       "      <td>Hull</td>\n",
       "      <td>J8Y 3Z5</td>\n",
       "      <td>Male</td>\n",
       "      <td>Bachelor</td>\n",
       "      <td>103495.0</td>\n",
       "      <td>Married</td>\n",
       "      <td>Star</td>\n",
       "      <td>3842.79</td>\n",
       "      <td>Standard</td>\n",
       "      <td>2014</td>\n",
       "      <td>10</td>\n",
       "      <td>NaN</td>\n",
       "      <td>NaN</td>\n",
       "    </tr>\n",
       "  </tbody>\n",
       "</table>\n",
       "</div>"
      ],
      "text/plain": [
       "   Loyalty Number Country          Province       City Postal Code  Gender  \\\n",
       "0          480934  Canada           Ontario    Toronto     M2Z 4K1  Female   \n",
       "1          549612  Canada           Alberta   Edmonton     T3G 6Y6    Male   \n",
       "2          429460  Canada  British Columbia  Vancouver     V6E 3D9    Male   \n",
       "3          608370  Canada           Ontario    Toronto     P1W 1K4    Male   \n",
       "4          530508  Canada            Quebec       Hull     J8Y 3Z5    Male   \n",
       "\n",
       "  Education    Salary Marital Status Loyalty Card      CLV Enrollment Type  \\\n",
       "0  Bachelor   83236.0        Married         Star  3839.14        Standard   \n",
       "1   College       NaN       Divorced         Star  3839.61        Standard   \n",
       "2   College       NaN         Single         Star  3839.75        Standard   \n",
       "3   College       NaN         Single         Star  3839.75        Standard   \n",
       "4  Bachelor  103495.0        Married         Star  3842.79        Standard   \n",
       "\n",
       "   Enrollment Year  Enrollment Month  Cancellation Year  Cancellation Month  \n",
       "0             2016                 2                NaN                 NaN  \n",
       "1             2016                 3                NaN                 NaN  \n",
       "2             2014                 7             2018.0                 1.0  \n",
       "3             2013                 2                NaN                 NaN  \n",
       "4             2014                10                NaN                 NaN  "
      ]
     },
     "execution_count": 13,
     "metadata": {},
     "output_type": "execute_result"
    }
   ],
   "source": [
    "df_loyalty.head()"
   ]
  },
  {
   "cell_type": "code",
   "execution_count": 14,
   "metadata": {},
   "outputs": [
    {
     "data": {
      "text/plain": [
       "(16737, 16)"
      ]
     },
     "execution_count": 14,
     "metadata": {},
     "output_type": "execute_result"
    }
   ],
   "source": [
    "df_loyalty.shape"
   ]
  },
  {
   "cell_type": "code",
   "execution_count": 15,
   "metadata": {},
   "outputs": [
    {
     "name": "stdout",
     "output_type": "stream",
     "text": [
      "<class 'pandas.core.frame.DataFrame'>\n",
      "RangeIndex: 16737 entries, 0 to 16736\n",
      "Data columns (total 16 columns):\n",
      " #   Column              Non-Null Count  Dtype  \n",
      "---  ------              --------------  -----  \n",
      " 0   Loyalty Number      16737 non-null  int64  \n",
      " 1   Country             16737 non-null  object \n",
      " 2   Province            16737 non-null  object \n",
      " 3   City                16737 non-null  object \n",
      " 4   Postal Code         16737 non-null  object \n",
      " 5   Gender              16737 non-null  object \n",
      " 6   Education           16737 non-null  object \n",
      " 7   Salary              12499 non-null  float64\n",
      " 8   Marital Status      16737 non-null  object \n",
      " 9   Loyalty Card        16737 non-null  object \n",
      " 10  CLV                 16737 non-null  float64\n",
      " 11  Enrollment Type     16737 non-null  object \n",
      " 12  Enrollment Year     16737 non-null  int64  \n",
      " 13  Enrollment Month    16737 non-null  int64  \n",
      " 14  Cancellation Year   2067 non-null   float64\n",
      " 15  Cancellation Month  2067 non-null   float64\n",
      "dtypes: float64(4), int64(3), object(9)\n",
      "memory usage: 2.0+ MB\n"
     ]
    }
   ],
   "source": [
    "# Tipo de dato\n",
    "\n",
    "df_loyalty.info()"
   ]
  },
  {
   "cell_type": "code",
   "execution_count": 16,
   "metadata": {},
   "outputs": [],
   "source": [
    "# Cancelation year y month, en formato float por presencia de NaN (que son floats)\n",
    "\n",
    "# Para tratamiento de datos futuro, podemos convertir \"Enrollment year/month\" en DATE\n",
    "\n",
    "# Creamos una nueva columna en formato datetime que combine mes y año, para posibles análisis futuros.\n",
    "\n",
    "# Para que no genere conflictos, tenemos qu poner por defecto día 1 en todos. (Más información en la documentación)\n",
    "\n",
    "df_loyalty['Enrollment Date'] =pd.to_datetime(df_loyalty['Enrollment Year'].astype(str) + '-' + df_loyalty['Enrollment Month'].astype(str) + '-01')"
   ]
  },
  {
   "cell_type": "code",
   "execution_count": 17,
   "metadata": {},
   "outputs": [
    {
     "data": {
      "text/plain": [
       "6780    2018-01-01\n",
       "15360   2016-05-01\n",
       "3       2013-02-01\n",
       "Name: Enrollment Date, dtype: datetime64[ns]"
      ]
     },
     "execution_count": 17,
     "metadata": {},
     "output_type": "execute_result"
    }
   ],
   "source": [
    "df_loyalty['Enrollment Date'].sample(3)"
   ]
  },
  {
   "cell_type": "code",
   "execution_count": 18,
   "metadata": {},
   "outputs": [
    {
     "data": {
      "text/plain": [
       "Loyalty Number         0.00\n",
       "Country                0.00\n",
       "Province               0.00\n",
       "City                   0.00\n",
       "Postal Code            0.00\n",
       "Gender                 0.00\n",
       "Education              0.00\n",
       "Salary                25.32\n",
       "Marital Status         0.00\n",
       "Loyalty Card           0.00\n",
       "CLV                    0.00\n",
       "Enrollment Type        0.00\n",
       "Enrollment Year        0.00\n",
       "Enrollment Month       0.00\n",
       "Cancellation Year     87.65\n",
       "Cancellation Month    87.65\n",
       "Enrollment Date        0.00\n",
       "dtype: float64"
      ]
     },
     "execution_count": 18,
     "metadata": {},
     "output_type": "execute_result"
    }
   ],
   "source": [
    "# Porcentaje de nulos por columna\n",
    "\n",
    "round(df_loyalty.isna().sum()/df_loyalty.shape[0]*100, 2)"
   ]
  },
  {
   "cell_type": "code",
   "execution_count": 19,
   "metadata": {},
   "outputs": [
    {
     "data": {
      "text/plain": [
       "np.int64(0)"
      ]
     },
     "execution_count": 19,
     "metadata": {},
     "output_type": "execute_result"
    }
   ],
   "source": [
    "df_loyalty.duplicated().sum() # No tiene datos duplicados"
   ]
  },
  {
   "cell_type": "code",
   "execution_count": 20,
   "metadata": {},
   "outputs": [
    {
     "name": "stdout",
     "output_type": "stream",
     "text": [
      "Valores únicos en la columna 'Loyalty Number':\n",
      "[480934 549612 429460 ... 776187 906428 652627]\n",
      "\n",
      "Valores únicos en la columna 'Country':\n",
      "['Canada']\n",
      "\n",
      "Valores únicos en la columna 'Province':\n",
      "['Ontario' 'Alberta' 'British Columbia' 'Quebec' 'Yukon' 'New Brunswick'\n",
      " 'Manitoba' 'Nova Scotia' 'Saskatchewan' 'Newfoundland'\n",
      " 'Prince Edward Island']\n",
      "\n",
      "Valores únicos en la columna 'City':\n",
      "['Toronto' 'Edmonton' 'Vancouver' 'Hull' 'Whitehorse' 'Trenton' 'Montreal'\n",
      " 'Dawson Creek' 'Quebec City' 'Fredericton' 'Ottawa' 'Tremblant' 'Calgary'\n",
      " 'Thunder Bay' 'Whistler' 'Peace River' 'Winnipeg' 'Sudbury'\n",
      " 'West Vancouver' 'Halifax' 'London' 'Regina' 'Kelowna' \"St. John's\"\n",
      " 'Victoria' 'Kingston' 'Banff' 'Moncton' 'Charlottetown']\n",
      "\n",
      "Valores únicos en la columna 'Postal Code':\n",
      "['M2Z 4K1' 'T3G 6Y6' 'V6E 3D9' 'P1W 1K4' 'J8Y 3Z5' 'Y2K 6R0' 'P5S 6R4'\n",
      " 'K8V 4B2' 'H2Y 2W2' 'M8Y 4K8' 'U5I 4F1' 'G1B 3L5' 'H4G 3T4' 'M2M 7K8'\n",
      " 'M2M 6J7' 'E3B 2H2' 'M1R 4K3' 'T9G 1W3' 'H2Y 4R4' 'V5R 1W3' 'P1L 8X8'\n",
      " 'K1F 2R2' 'H5Y 2S9' 'V1E 4R6' 'H2T 2J6' 'T3E 2V9' 'H2T 9K8' 'K8T 5M5'\n",
      " 'V6T 1Y8' 'P2T 6G3' 'T9O 2W2' 'V6E 3Z3' 'R6Y 4T5' 'M5V 1G5' 'V6V 8Z3'\n",
      " 'B3J 9S2' 'M5B 3E4' 'R2C 0M5' 'S6J 3G0' 'M2P 4F6' 'P1J 8T7' 'V09 2E9'\n",
      " 'A1C 6H9' 'V10 6T5' 'B3C 2M8' 'M9K 2P4' 'T4V 1D4' 'R3R 3T4' 'S1J 3C5'\n",
      " 'E1A 2A7' 'K1G 4Z0' 'H3T 8L4' 'C1A 6E8' 'H3J 5I6' 'M3R 4K8']\n",
      "\n",
      "Valores únicos en la columna 'Gender':\n",
      "['Female' 'Male']\n",
      "\n",
      "Valores únicos en la columna 'Education':\n",
      "['Bachelor' 'College' 'Master' 'High School or Below' 'Doctor']\n",
      "\n",
      "Valores únicos en la columna 'Salary':\n",
      "[ 83236.     nan 103495. ...  76178.  91970. -57297.]\n",
      "\n",
      "Valores únicos en la columna 'Marital Status':\n",
      "['Married' 'Divorced' 'Single']\n",
      "\n",
      "Valores únicos en la columna 'Loyalty Card':\n",
      "['Star' 'Aurora' 'Nova']\n",
      "\n",
      "Valores únicos en la columna 'CLV':\n",
      "[ 3839.14  3839.61  3839.75 ... 44771.3  50568.26 61134.68]\n",
      "\n",
      "Valores únicos en la columna 'Enrollment Type':\n",
      "['Standard' '2018 Promotion']\n",
      "\n",
      "Valores únicos en la columna 'Enrollment Year':\n",
      "[2016 2014 2013 2012 2015 2018 2017]\n",
      "\n",
      "Valores únicos en la columna 'Enrollment Month':\n",
      "[ 2  3  7 10  5  6 12  1 11  8  4  9]\n",
      "\n",
      "Valores únicos en la columna 'Cancellation Year':\n",
      "[  nan 2018. 2015. 2017. 2014. 2016. 2013.]\n",
      "\n",
      "Valores únicos en la columna 'Cancellation Month':\n",
      "[nan  1. 12.  4.  2.  7. 11.  5.  6. 10.  8.  9.  3.]\n",
      "\n",
      "Valores únicos en la columna 'Enrollment Date':\n",
      "<DatetimeArray>\n",
      "['2016-02-01 00:00:00', '2016-03-01 00:00:00', '2014-07-01 00:00:00',\n",
      " '2013-02-01 00:00:00', '2014-10-01 00:00:00', '2012-05-01 00:00:00',\n",
      " '2014-06-01 00:00:00', '2016-12-01 00:00:00', '2015-05-01 00:00:00',\n",
      " '2016-10-01 00:00:00', '2015-03-01 00:00:00', '2016-06-01 00:00:00',\n",
      " '2018-01-01 00:00:00', '2013-10-01 00:00:00', '2016-11-01 00:00:00',\n",
      " '2016-08-01 00:00:00', '2018-03-01 00:00:00', '2015-07-01 00:00:00',\n",
      " '2018-11-01 00:00:00', '2014-05-01 00:00:00', '2016-05-01 00:00:00',\n",
      " '2015-06-01 00:00:00', '2017-10-01 00:00:00', '2013-07-01 00:00:00',\n",
      " '2015-11-01 00:00:00', '2014-03-01 00:00:00', '2015-04-01 00:00:00',\n",
      " '2012-11-01 00:00:00', '2018-05-01 00:00:00', '2017-05-01 00:00:00',\n",
      " '2018-04-01 00:00:00', '2013-05-01 00:00:00', '2017-03-01 00:00:00',\n",
      " '2016-09-01 00:00:00', '2018-06-01 00:00:00', '2015-02-01 00:00:00',\n",
      " '2015-08-01 00:00:00', '2013-12-01 00:00:00', '2014-09-01 00:00:00',\n",
      " '2013-11-01 00:00:00', '2012-12-01 00:00:00', '2013-06-01 00:00:00',\n",
      " '2015-09-01 00:00:00', '2018-10-01 00:00:00', '2012-09-01 00:00:00',\n",
      " '2012-08-01 00:00:00', '2018-02-01 00:00:00', '2018-09-01 00:00:00',\n",
      " '2018-07-01 00:00:00', '2013-03-01 00:00:00', '2013-01-01 00:00:00',\n",
      " '2013-04-01 00:00:00', '2013-08-01 00:00:00', '2017-04-01 00:00:00',\n",
      " '2018-08-01 00:00:00', '2017-07-01 00:00:00', '2017-08-01 00:00:00',\n",
      " '2015-12-01 00:00:00', '2017-09-01 00:00:00', '2014-02-01 00:00:00',\n",
      " '2017-01-01 00:00:00', '2013-09-01 00:00:00', '2017-02-01 00:00:00',\n",
      " '2017-06-01 00:00:00', '2012-06-01 00:00:00', '2014-04-01 00:00:00',\n",
      " '2015-10-01 00:00:00', '2012-04-01 00:00:00', '2012-07-01 00:00:00',\n",
      " '2014-12-01 00:00:00', '2017-12-01 00:00:00', '2014-08-01 00:00:00',\n",
      " '2017-11-01 00:00:00', '2016-04-01 00:00:00', '2016-01-01 00:00:00',\n",
      " '2016-07-01 00:00:00', '2014-01-01 00:00:00', '2015-01-01 00:00:00',\n",
      " '2018-12-01 00:00:00', '2012-10-01 00:00:00', '2014-11-01 00:00:00']\n",
      "Length: 81, dtype: datetime64[ns]\n",
      "\n"
     ]
    }
   ],
   "source": [
    "# Aplicamos nuestra función de valores únicos: revision_columnas\n",
    "\n",
    "revision_columnas(df_loyalty)\n",
    "\n",
    "# Sólo son vuelos de Canadá\n"
   ]
  },
  {
   "cell_type": "code",
   "execution_count": 21,
   "metadata": {},
   "outputs": [
    {
     "data": {
      "text/html": [
       "<div>\n",
       "<style scoped>\n",
       "    .dataframe tbody tr th:only-of-type {\n",
       "        vertical-align: middle;\n",
       "    }\n",
       "\n",
       "    .dataframe tbody tr th {\n",
       "        vertical-align: top;\n",
       "    }\n",
       "\n",
       "    .dataframe thead th {\n",
       "        text-align: right;\n",
       "    }\n",
       "</style>\n",
       "<table border=\"1\" class=\"dataframe\">\n",
       "  <thead>\n",
       "    <tr style=\"text-align: right;\">\n",
       "      <th></th>\n",
       "      <th>count</th>\n",
       "      <th>unique</th>\n",
       "      <th>top</th>\n",
       "      <th>freq</th>\n",
       "    </tr>\n",
       "  </thead>\n",
       "  <tbody>\n",
       "    <tr>\n",
       "      <th>Country</th>\n",
       "      <td>16737</td>\n",
       "      <td>1</td>\n",
       "      <td>Canada</td>\n",
       "      <td>16737</td>\n",
       "    </tr>\n",
       "    <tr>\n",
       "      <th>Province</th>\n",
       "      <td>16737</td>\n",
       "      <td>11</td>\n",
       "      <td>Ontario</td>\n",
       "      <td>5404</td>\n",
       "    </tr>\n",
       "    <tr>\n",
       "      <th>City</th>\n",
       "      <td>16737</td>\n",
       "      <td>29</td>\n",
       "      <td>Toronto</td>\n",
       "      <td>3351</td>\n",
       "    </tr>\n",
       "    <tr>\n",
       "      <th>Postal Code</th>\n",
       "      <td>16737</td>\n",
       "      <td>55</td>\n",
       "      <td>V6E 3D9</td>\n",
       "      <td>911</td>\n",
       "    </tr>\n",
       "    <tr>\n",
       "      <th>Gender</th>\n",
       "      <td>16737</td>\n",
       "      <td>2</td>\n",
       "      <td>Female</td>\n",
       "      <td>8410</td>\n",
       "    </tr>\n",
       "    <tr>\n",
       "      <th>Education</th>\n",
       "      <td>16737</td>\n",
       "      <td>5</td>\n",
       "      <td>Bachelor</td>\n",
       "      <td>10475</td>\n",
       "    </tr>\n",
       "    <tr>\n",
       "      <th>Marital Status</th>\n",
       "      <td>16737</td>\n",
       "      <td>3</td>\n",
       "      <td>Married</td>\n",
       "      <td>9735</td>\n",
       "    </tr>\n",
       "    <tr>\n",
       "      <th>Loyalty Card</th>\n",
       "      <td>16737</td>\n",
       "      <td>3</td>\n",
       "      <td>Star</td>\n",
       "      <td>7637</td>\n",
       "    </tr>\n",
       "    <tr>\n",
       "      <th>Enrollment Type</th>\n",
       "      <td>16737</td>\n",
       "      <td>2</td>\n",
       "      <td>Standard</td>\n",
       "      <td>15766</td>\n",
       "    </tr>\n",
       "  </tbody>\n",
       "</table>\n",
       "</div>"
      ],
      "text/plain": [
       "                 count unique       top   freq\n",
       "Country          16737      1    Canada  16737\n",
       "Province         16737     11   Ontario   5404\n",
       "City             16737     29   Toronto   3351\n",
       "Postal Code      16737     55   V6E 3D9    911\n",
       "Gender           16737      2    Female   8410\n",
       "Education        16737      5  Bachelor  10475\n",
       "Marital Status   16737      3   Married   9735\n",
       "Loyalty Card     16737      3      Star   7637\n",
       "Enrollment Type  16737      2  Standard  15766"
      ]
     },
     "execution_count": 21,
     "metadata": {},
     "output_type": "execute_result"
    }
   ],
   "source": [
    "df_loyalty.describe(include=\"O\").T"
   ]
  },
  {
   "cell_type": "code",
   "execution_count": 22,
   "metadata": {},
   "outputs": [
    {
     "data": {
      "image/png": "[encoded data removed]",
      "text/plain": [
       "<Figure size 600x400 with 1 Axes>"
      ]
     },
     "metadata": {},
     "output_type": "display_data"
    },
    {
     "data": {
      "image/png": "[encoded data removed]",
      "text/plain": [
       "<Figure size 600x400 with 1 Axes>"
      ]
     },
     "metadata": {},
     "output_type": "display_data"
    },
    {
     "data": {
      "image/png": "[encoded data removed]",
      "text/plain": [
       "<Figure size 600x400 with 1 Axes>"
      ]
     },
     "metadata": {},
     "output_type": "display_data"
    },
    {
     "data": {
      "image/png": "[encoded data removed]",
      "text/plain": [
       "<Figure size 600x400 with 1 Axes>"
      ]
     },
     "metadata": {},
     "output_type": "display_data"
    },
    {
     "data": {
      "image/png": "[encoded data removed]",
      "text/plain": [
       "<Figure size 600x400 with 1 Axes>"
      ]
     },
     "metadata": {},
     "output_type": "display_data"
    },
    {
     "data": {
      "image/png": "[encoded data removed]",
      "text/plain": [
       "<Figure size 600x400 with 1 Axes>"
      ]
     },
     "metadata": {},
     "output_type": "display_data"
    },
    {
     "data": {
      "image/png": "[encoded data removed]",
      "text/plain": [
       "<Figure size 600x400 with 1 Axes>"
      ]
     },
     "metadata": {},
     "output_type": "display_data"
    }
   ],
   "source": [
    "# Lista de columnas del DataFrame\n",
    "columnas_numericas = df_loyalty.select_dtypes(include=['int64', 'float64']).columns\n",
    "\n",
    "# Iterar sobre cada columna\n",
    "for col in columnas_numericas:\n",
    "        plt.figure(figsize=(6, 4)) \n",
    "        sns.boxplot(x=col, \n",
    "                    data=df_loyalty, \n",
    "                    width=0.5, \n",
    "                    color=\"purple\")\n",
    "        plt.title(f\"Búsqueda v.atípicos de {col}\")  \n",
    "        plt.show()\n",
    "\n",
    "# Encontramos bastantes valores atípicos en : salary y CLV\n",
    "#CLV sin problema, porque son aportaciones que el cliente aporta a la empresa, puede ser alta.\n"
   ]
  },
  {
   "cell_type": "code",
   "execution_count": 23,
   "metadata": {},
   "outputs": [
    {
     "name": "stdout",
     "output_type": "stream",
     "text": [
      "Valor mínimo de Salary: -58486.0\n",
      "Valor máximo de Salary: 407228.0\n"
     ]
    }
   ],
   "source": [
    "min_salary, max_salary = df_loyalty['Salary'].min(), df_loyalty['Salary'].max()\n",
    "print(f\"Valor mínimo de Salary: {min_salary}\")\n",
    "print(f\"Valor máximo de Salary: {max_salary}\")\n",
    "\n",
    "#Tranformación sobre valores negativos. Si podemos asumir salarios altos\n"
   ]
  },
  {
   "cell_type": "code",
   "execution_count": 24,
   "metadata": {},
   "outputs": [
    {
     "name": "stdout",
     "output_type": "stream",
     "text": [
      "Rango inferior bigote izq --> 15340.0\n"
     ]
    }
   ],
   "source": [
    "#Se establece un rango desde el rango inferior, hasta el extremo: 407228.0\n",
    "\n",
    "Q1 = np.nanpercentile(df_loyalty[\"Salary\"], 25)\n",
    "Q3 = np.nanpercentile(df_loyalty[\"Salary\"], 75)\n",
    "IQR = Q3 - Q1\n",
    "salto = IQR*1.5\n",
    "bigote_izq = Q1 - salto\n",
    "print(f\"Rango inferior bigote izq --> {bigote_izq}\")\n"
   ]
  },
  {
   "cell_type": "code",
   "execution_count": 25,
   "metadata": {},
   "outputs": [],
   "source": [
    "# Filtración datos desde ese valor, hasta el valor más alto.\n",
    "\n",
    "df_loyalty_mod=df_loyalty[(df_loyalty[\"Salary\"]>bigote_izq)]"
   ]
  },
  {
   "cell_type": "code",
   "execution_count": 26,
   "metadata": {},
   "outputs": [
    {
     "name": "stdout",
     "output_type": "stream",
     "text": [
      "Valor mínimo de Salary: 15609.0\n",
      "Valor máximo de Salary: 407228.0\n"
     ]
    }
   ],
   "source": [
    "# Valores:\n",
    "\n",
    "min_salary, max_salary = df_loyalty_mod['Salary'].min(), df_loyalty_mod['Salary'].max()\n",
    "print(f\"Valor mínimo de Salary: {min_salary}\")\n",
    "print(f\"Valor máximo de Salary: {max_salary}\")"
   ]
  },
  {
   "cell_type": "code",
   "execution_count": 27,
   "metadata": {},
   "outputs": [
    {
     "data": {
      "text/plain": [
       "Loyalty Number         0.00\n",
       "Country                0.00\n",
       "Province               0.00\n",
       "City                   0.00\n",
       "Postal Code            0.00\n",
       "Gender                 0.00\n",
       "Education              0.00\n",
       "Salary                 0.00\n",
       "Marital Status         0.00\n",
       "Loyalty Card           0.00\n",
       "CLV                    0.00\n",
       "Enrollment Type        0.00\n",
       "Enrollment Year        0.00\n",
       "Enrollment Month       0.00\n",
       "Cancellation Year     65.37\n",
       "Cancellation Month    65.37\n",
       "Enrollment Date        0.00\n",
       "dtype: float64"
      ]
     },
     "execution_count": 27,
     "metadata": {},
     "output_type": "execute_result"
    }
   ],
   "source": [
    "round(df_loyalty_mod.isna().sum()/df_loyalty.shape[0]*100, 2)\n",
    "\n",
    "# Al filtrar datos por salarios, tenemos nueva información sobre nulos."
   ]
  },
  {
   "cell_type": "code",
   "execution_count": 28,
   "metadata": {},
   "outputs": [],
   "source": [
    "# ¿Otra opción podría haber sido, convertir a nulos los valores atipicos negativos, y despues hacer una imputacion con la media?"
   ]
  },
  {
   "cell_type": "code",
   "execution_count": 29,
   "metadata": {},
   "outputs": [],
   "source": [
    "# Relevancia de las columnas Cancellation Year, y Cancellation Month ante la gran proporción de nulos.\n",
    "# Se valorará después de la unión, ya que en Customer Flight Analysis.csv, tenemos mas volumen de datos"
   ]
  },
  {
   "cell_type": "code",
   "execution_count": 30,
   "metadata": {},
   "outputs": [],
   "source": [
    "#A partir de aquí trabajaremos con \"df_loyalty_mod\"\n",
    "# Se guarda, para asegurar versiones en un futuro:\n",
    "\n",
    "df_loyalty_mod.to_csv(\"files/MOD Customer Loyalty History.csv\")"
   ]
  },
  {
   "cell_type": "markdown",
   "metadata": {},
   "source": [
    "### Unión de conjunto de datos"
   ]
  },
  {
   "cell_type": "code",
   "execution_count": null,
   "metadata": {},
   "outputs": [],
   "source": [
    "# Unión de tipo:\n",
    "# Datos coincidentes de los datos \"df_flight\" con los datos de \"df_loyalty_mod\"\n",
    "\n",
    "# Claro, porque en flight tenemos valores de id repetirdos, xq depende de la fecha, si lo\n",
    "#hacemso al reves perdemos info."
   ]
  },
  {
   "cell_type": "code",
   "execution_count": 32,
   "metadata": {},
   "outputs": [],
   "source": [
    "df_airline = df_flight.merge(df_loyalty_mod, how='left', on='Loyalty Number') "
   ]
  },
  {
   "cell_type": "code",
   "execution_count": 35,
   "metadata": {},
   "outputs": [
    {
     "data": {
      "text/plain": [
       "Loyalty Number                  0.00\n",
       "Year                            0.00\n",
       "Month                           0.00\n",
       "Flights Booked                  0.00\n",
       "Flights with Companions         0.00\n",
       "Total Flights                   0.00\n",
       "Distance                        0.00\n",
       "Points Accumulated              0.00\n",
       "Points Redeemed                 0.00\n",
       "Dollar Cost Points Redeemed     0.00\n",
       "Country                        25.43\n",
       "Province                       25.43\n",
       "City                           25.43\n",
       "Postal Code                    25.43\n",
       "Gender                         25.43\n",
       "Education                      25.43\n",
       "Salary                         25.43\n",
       "Marital Status                 25.43\n",
       "Loyalty Card                   25.43\n",
       "CLV                            25.43\n",
       "Enrollment Type                25.43\n",
       "Enrollment Year                25.43\n",
       "Enrollment Month               25.43\n",
       "Cancellation Year              90.79\n",
       "Cancellation Month             90.79\n",
       "Enrollment Date                25.43\n",
       "dtype: float64"
      ]
     },
     "execution_count": 35,
     "metadata": {},
     "output_type": "execute_result"
    }
   ],
   "source": [
    "round(df_airline.isna().sum()/df_airline.shape[0]*100, 2)\n"
   ]
  },
  {
   "cell_type": "code",
   "execution_count": 38,
   "metadata": {},
   "outputs": [],
   "source": [
    "# Columnas a borrar: Cancellation Year y Cancellation Month\n",
    "\n",
    "df_airline = df_airline.drop(['Cancellation Year', 'Cancellation Month'], axis=1)"
   ]
  },
  {
   "cell_type": "code",
   "execution_count": null,
   "metadata": {},
   "outputs": [
    {
     "data": {
      "text/html": [
       "<div>\n",
       "<style scoped>\n",
       "    .dataframe tbody tr th:only-of-type {\n",
       "        vertical-align: middle;\n",
       "    }\n",
       "\n",
       "    .dataframe tbody tr th {\n",
       "        vertical-align: top;\n",
       "    }\n",
       "\n",
       "    .dataframe thead th {\n",
       "        text-align: right;\n",
       "    }\n",
       "</style>\n",
       "<table border=\"1\" class=\"dataframe\">\n",
       "  <thead>\n",
       "    <tr style=\"text-align: right;\">\n",
       "      <th></th>\n",
       "      <th>Loyalty Number</th>\n",
       "      <th>Year</th>\n",
       "      <th>Month</th>\n",
       "      <th>Flights Booked</th>\n",
       "      <th>Flights with Companions</th>\n",
       "      <th>Total Flights</th>\n",
       "      <th>Distance</th>\n",
       "      <th>Points Accumulated</th>\n",
       "      <th>Points Redeemed</th>\n",
       "      <th>Dollar Cost Points Redeemed</th>\n",
       "      <th>Country</th>\n",
       "      <th>Province</th>\n",
       "      <th>City</th>\n",
       "      <th>Postal Code</th>\n",
       "      <th>Gender</th>\n",
       "      <th>Education</th>\n",
       "      <th>Salary</th>\n",
       "      <th>Marital Status</th>\n",
       "      <th>Loyalty Card</th>\n",
       "      <th>CLV</th>\n",
       "      <th>Enrollment Type</th>\n",
       "      <th>Enrollment Year</th>\n",
       "      <th>Enrollment Month</th>\n",
       "      <th>Enrollment Date</th>\n",
       "    </tr>\n",
       "  </thead>\n",
       "  <tbody>\n",
       "    <tr>\n",
       "      <th>0</th>\n",
       "      <td>100018</td>\n",
       "      <td>2017</td>\n",
       "      <td>1</td>\n",
       "      <td>3</td>\n",
       "      <td>0</td>\n",
       "      <td>3</td>\n",
       "      <td>1521</td>\n",
       "      <td>152.0</td>\n",
       "      <td>0</td>\n",
       "      <td>0</td>\n",
       "      <td>Canada</td>\n",
       "      <td>Alberta</td>\n",
       "      <td>Edmonton</td>\n",
       "      <td>T9G 1W3</td>\n",
       "      <td>Female</td>\n",
       "      <td>Bachelor</td>\n",
       "      <td>92552.0</td>\n",
       "      <td>Married</td>\n",
       "      <td>Aurora</td>\n",
       "      <td>7919.2</td>\n",
       "      <td>Standard</td>\n",
       "      <td>2016.0</td>\n",
       "      <td>8.0</td>\n",
       "      <td>2016-08-01</td>\n",
       "    </tr>\n",
       "    <tr>\n",
       "      <th>1</th>\n",
       "      <td>100102</td>\n",
       "      <td>2017</td>\n",
       "      <td>1</td>\n",
       "      <td>10</td>\n",
       "      <td>4</td>\n",
       "      <td>14</td>\n",
       "      <td>2030</td>\n",
       "      <td>203.0</td>\n",
       "      <td>0</td>\n",
       "      <td>0</td>\n",
       "      <td>NaN</td>\n",
       "      <td>NaN</td>\n",
       "      <td>NaN</td>\n",
       "      <td>NaN</td>\n",
       "      <td>NaN</td>\n",
       "      <td>NaN</td>\n",
       "      <td>NaN</td>\n",
       "      <td>NaN</td>\n",
       "      <td>NaN</td>\n",
       "      <td>NaN</td>\n",
       "      <td>NaN</td>\n",
       "      <td>NaN</td>\n",
       "      <td>NaN</td>\n",
       "      <td>NaT</td>\n",
       "    </tr>\n",
       "    <tr>\n",
       "      <th>2</th>\n",
       "      <td>100140</td>\n",
       "      <td>2017</td>\n",
       "      <td>1</td>\n",
       "      <td>6</td>\n",
       "      <td>0</td>\n",
       "      <td>6</td>\n",
       "      <td>1200</td>\n",
       "      <td>120.0</td>\n",
       "      <td>0</td>\n",
       "      <td>0</td>\n",
       "      <td>NaN</td>\n",
       "      <td>NaN</td>\n",
       "      <td>NaN</td>\n",
       "      <td>NaN</td>\n",
       "      <td>NaN</td>\n",
       "      <td>NaN</td>\n",
       "      <td>NaN</td>\n",
       "      <td>NaN</td>\n",
       "      <td>NaN</td>\n",
       "      <td>NaN</td>\n",
       "      <td>NaN</td>\n",
       "      <td>NaN</td>\n",
       "      <td>NaN</td>\n",
       "      <td>NaT</td>\n",
       "    </tr>\n",
       "  </tbody>\n",
       "</table>\n",
       "</div>"
      ],
      "text/plain": [
       "   Loyalty Number  Year  Month  Flights Booked  Flights with Companions  \\\n",
       "0          100018  2017      1               3                        0   \n",
       "1          100102  2017      1              10                        4   \n",
       "2          100140  2017      1               6                        0   \n",
       "\n",
       "   Total Flights  Distance  Points Accumulated  Points Redeemed  \\\n",
       "0              3      1521               152.0                0   \n",
       "1             14      2030               203.0                0   \n",
       "2              6      1200               120.0                0   \n",
       "\n",
       "   Dollar Cost Points Redeemed Country Province      City Postal Code  Gender  \\\n",
       "0                            0  Canada  Alberta  Edmonton     T9G 1W3  Female   \n",
       "1                            0     NaN      NaN       NaN         NaN     NaN   \n",
       "2                            0     NaN      NaN       NaN         NaN     NaN   \n",
       "\n",
       "  Education   Salary Marital Status Loyalty Card     CLV Enrollment Type  \\\n",
       "0  Bachelor  92552.0        Married       Aurora  7919.2        Standard   \n",
       "1       NaN      NaN            NaN          NaN     NaN             NaN   \n",
       "2       NaN      NaN            NaN          NaN     NaN             NaN   \n",
       "\n",
       "   Enrollment Year  Enrollment Month Enrollment Date  \n",
       "0           2016.0               8.0      2016-08-01  \n",
       "1              NaN               NaN             NaT  \n",
       "2              NaN               NaN             NaT  "
      ]
     },
     "execution_count": 39,
     "metadata": {},
     "output_type": "execute_result"
    }
   ],
   "source": [
    "# En todas las columnas no coincidentes, tenemos un 25% de nulos aprox.\n",
    "\n",
    "# S epuede busar la relación entre clv y loyalty card, que son\n",
    "las columnas q mas nos interesan y quizás cambiar datos desde ahi."
   ]
  },
  {
   "cell_type": "code",
   "execution_count": 43,
   "metadata": {},
   "outputs": [
    {
     "name": "stderr",
     "output_type": "stream",
     "text": [
      "C:\\Users\\isaw9\\AppData\\Local\\Temp\\ipykernel_1356\\1175530334.py:3: FutureWarning: \n",
      "\n",
      "Passing `palette` without assigning `hue` is deprecated and will be removed in v0.14.0. Assign the `x` variable to `hue` and set `legend=False` for the same effect.\n",
      "\n",
      "  sns.barplot(x = \"Loyalty Card\",\n"
     ]
    },
    {
     "data": {
      "text/plain": [
       "<Axes: xlabel='Loyalty Card', ylabel='CLV'>"
      ]
     },
     "execution_count": 43,
     "metadata": {},
     "output_type": "execute_result"
    },
    {
     "data": {
      "image/png": "[encoded data removed]",
      "text/plain": [
       "<Figure size 640x480 with 1 Axes>"
      ]
     },
     "metadata": {},
     "output_type": "display_data"
    }
   ],
   "source": [
    "# 1 ¿Existe relación? --> Visualización\n",
    "\n",
    "sns.barplot(x = \"Loyalty Card\", \n",
    "            y = \"CLV\", \n",
    "            data = df_airline, \n",
    "            palette = \"magma\")"
   ]
  },
  {
   "cell_type": "code",
   "execution_count": null,
   "metadata": {},
   "outputs": [],
   "source": [
    "# No hay relación entre el dinero que cada cliente aporta a la empresa y la tarjeta de lealtad. No imputo."
   ]
  },
  {
   "cell_type": "markdown",
   "metadata": {},
   "source": [
    "## FASE 2: Visualizaciones"
   ]
  },
  {
   "cell_type": "code",
   "execution_count": 100,
   "metadata": {},
   "outputs": [
    {
     "data": {
      "image/png": "[encoded data removed]",
      "text/plain": [
       "<Figure size 800x500 with 1 Axes>"
      ]
     },
     "metadata": {},
     "output_type": "display_data"
    }
   ],
   "source": [
    "#1.¿Cómo se distribuye la cantidad de vuelos reservados por mes durante el año?\n",
    "\n",
    "# Agrupar los datos por Año y Mes y sumar los vuelos reservados\n",
    "df_flights_by_month = df_airline.groupby(['Year', 'Month'])['Flights Booked'].sum().reset_index()\n",
    "\n",
    "# Creación de un gráfico de barras\n",
    "plt.figure(figsize=(8, 5))\n",
    "sns.barplot(x='Month', y='Flights Booked', data=df_flights_by_month, hue='Year', palette='plasma')\n",
    "\n",
    "\n",
    "plt.title('Distribución de la cantidad de vuelos reservados por mes durante el 2017 y 2018')\n",
    "plt.xlabel('Mes')\n",
    "plt.ylabel('Vuelos Reservados')\n",
    "plt.show()"
   ]
  },
  {
   "cell_type": "code",
   "execution_count": 54,
   "metadata": {},
   "outputs": [
    {
     "data": {
      "image/png": "[encoded data removed]",
      "text/plain": [
       "<Figure size 800x500 with 1 Axes>"
      ]
     },
     "metadata": {},
     "output_type": "display_data"
    }
   ],
   "source": [
    "#2.¿Existe una relación entre la distancia de los vuelos y los puntos acumulados por los cliente?\n",
    "\n",
    "# Crear el gráfico de dispersión\n",
    "plt.figure(figsize=(8, 5))\n",
    "sns.regplot(x='Distance', y='Points Accumulated', data=df_airline, scatter_kws={'color':'orange'}, line_kws={'color':'purple'})\n",
    "\n",
    "# Configuración del gráfico\n",
    "plt.title('Relación entre la distancia de los vuelos y los puntos acumulados')\n",
    "plt.xlabel('Distancia')\n",
    "plt.ylabel('Puntos acumulados')\n",
    "plt.show()"
   ]
  },
  {
   "cell_type": "code",
   "execution_count": 99,
   "metadata": {},
   "outputs": [
    {
     "name": "stderr",
     "output_type": "stream",
     "text": [
      "C:\\Users\\isaw9\\AppData\\Local\\Temp\\ipykernel_1356\\3740094043.py:4: FutureWarning: \n",
      "\n",
      "Passing `palette` without assigning `hue` is deprecated and will be removed in v0.14.0. Assign the `y` variable to `hue` and set `legend=False` for the same effect.\n",
      "\n",
      "  sns.countplot(data=df_airline, y='Province', palette='plasma')\n"
     ]
    },
    {
     "data": {
      "image/png": "[encoded data removed]",
      "text/plain": [
       "<Figure size 800x500 with 1 Axes>"
      ]
     },
     "metadata": {},
     "output_type": "display_data"
    }
   ],
   "source": [
    "#3.¿Cuál es la distribución de los clientes por provincia o estado?\n",
    "\n",
    "plt.figure(figsize=(8, 5))  # Tamaño del gráfico\n",
    "sns.countplot(data=df_airline, y='Province', palette='plasma')\n",
    "\n",
    "# Configuración del gráfico\n",
    "plt.title('Distribución de clientes por Provincia/Estado')\n",
    "plt.xlabel('Provincia/Estado')\n",
    "plt.ylabel('Nº de clientes')\n",
    "plt.show()\n"
   ]
  },
  {
   "cell_type": "code",
   "execution_count": 74,
   "metadata": {},
   "outputs": [
    {
     "name": "stdout",
     "output_type": "stream",
     "text": [
      "[ 72669.31239341 178335.43951613  61126.64096081 103767.49416342]\n",
      "Index(['Bachelor', 'Doctor', 'High School or Below', 'Master'], dtype='object', name='Education')\n"
     ]
    }
   ],
   "source": [
    "#4.¿Cómo se compara el salario promedio entre los diferentes niveles educativos de los clientes?\n",
    "\n",
    "# Calculamos el salario promedio, por nivel educativo, utilizando un group by\n",
    "\n",
    "sal_prom_edu= df_airline.groupby('Education')['Salary'].mean()\n",
    "print(sal_prom_edu.values)\n",
    "print(sal_prom_edu.index)"
   ]
  },
  {
   "cell_type": "code",
   "execution_count": 98,
   "metadata": {},
   "outputs": [
    {
     "name": "stderr",
     "output_type": "stream",
     "text": [
      "C:\\Users\\isaw9\\AppData\\Local\\Temp\\ipykernel_1356\\3940916614.py:3: FutureWarning: \n",
      "\n",
      "Passing `palette` without assigning `hue` is deprecated and will be removed in v0.14.0. Assign the `y` variable to `hue` and set `legend=False` for the same effect.\n",
      "\n",
      "  sns.barplot(x=sal_prom_edu.values, y=sal_prom_edu.index, palette='plasma')\n"
     ]
    },
    {
     "data": {
      "image/png": "[encoded data removed]",
      "text/plain": [
       "<Figure size 800x500 with 1 Axes>"
      ]
     },
     "metadata": {},
     "output_type": "display_data"
    }
   ],
   "source": [
    "# Crear el gráfico de barras con el salario en el eje X y los niveles educativos en el eje Y\n",
    "plt.figure(figsize=(8, 5))\n",
    "sns.barplot(x=sal_prom_edu.values, y=sal_prom_edu.index, palette='plasma')\n",
    "\n",
    "# Configuración del gráfico\n",
    "plt.title('Salario promedio por nivel educativo')\n",
    "plt.xlabel('Salario promedio')\n",
    "plt.ylabel('Nivel educativo')\n",
    "plt.show()"
   ]
  },
  {
   "cell_type": "code",
   "execution_count": 84,
   "metadata": {},
   "outputs": [
    {
     "data": {
      "image/png": "[encoded data removed]",
      "text/plain": [
       "<Figure size 800x600 with 1 Axes>"
      ]
     },
     "metadata": {},
     "output_type": "display_data"
    }
   ],
   "source": [
    "#5.¿Cuál es la proporción de clientes con diferentes tipos de tarjetas de fidelidad?\n",
    "\n",
    "# Crear el gráfico de pastel\n",
    "plt.figure(figsize=(8, 6))\n",
    "plt.pie(df_airline['Loyalty Card'].value_counts(), \n",
    "        labels= valores.index, \n",
    "        autopct='%1.1f%%')\n",
    "\n",
    "# Configuración del gráfico\n",
    "plt.title('Proporción de Clientes por Tipo de Tarjeta de Fidelidad')\n",
    "plt.show()\n",
    "\n"
   ]
  },
  {
   "cell_type": "code",
   "execution_count": 97,
   "metadata": {},
   "outputs": [
    {
     "data": {
      "image/png": "[encoded data removed]",
      "text/plain": [
       "<Figure size 800x500 with 1 Axes>"
      ]
     },
     "metadata": {},
     "output_type": "display_data"
    }
   ],
   "source": [
    "#6.¿Cómo se distribuyen los clientes según su estado civil y género?\n",
    "\n",
    "import seaborn as sns\n",
    "import matplotlib.pyplot as plt\n",
    "\n",
    "# Crear countplot para mostrar la distribución de Estado Civil por Género\n",
    "plt.figure(figsize=(8, 5))\n",
    "sns.countplot(x='Marital Status', hue='Gender', data=df_airline, palette='plasma')\n",
    "\n",
    "# Configuración del gráfico\n",
    "plt.title('Distribución de Clientes por Estado Civil y Género')\n",
    "plt.xlabel('Estado Civil')\n",
    "plt.ylabel('Cantidad de Clientes')\n",
    "plt.show()\n"
   ]
  },
  {
   "cell_type": "markdown",
   "metadata": {},
   "source": [
    "## FASE 3: BONUS"
   ]
  },
  {
   "cell_type": "markdown",
   "metadata": {},
   "source": [
    "Evaluación de Diferencias en Reservas de Vuelos por Nivel Educativo\n",
    "\n",
    " Utilizando un conjunto de datos que hemos compartido, se busca evaluar si existen diferencias\n",
    " significativas en el número de vuelos reservados según el nivel educativo de los clientes. Para ello, los\n",
    " pasos que deberás seguir son:\n",
    "\n",
    " . Preparación de Datos: Filtra el conjunto de datos para incluir únicamente las columnas relevantes:\n",
    " 'Flights Booked' y 'Education'.\n",
    "\n",
    " . Análisis Descriptivo: Agrupa los datos por nivel educativo y calcula estadísticas descriptivas\n",
    " básicas (como el promedio, la desviación estándar) del número de vuelos reservados para cada\n",
    " grupo.\n",
    " \n",
    " . Prueba Estadística: Realiza una prueba de hipótesis para determinar si existe una diferencia\n",
    " significativa en el número de vuelos reservados entre los diferentes niveles educativos."
   ]
  }
 ],
 "metadata": {
  "kernelspec": {
   "display_name": "Python 3",
   "language": "python",
   "name": "python3"
  },
  "language_info": {
   "codemirror_mode": {
    "name": "ipython",
    "version": 3
   },
   "file_extension": ".py",
   "mimetype": "text/x-python",
   "name": "python",
   "nbconvert_exporter": "python",
   "pygments_lexer": "ipython3",
   "version": "3.12.7"
  }
 },
 "nbformat": 4,
 "nbformat_minor": 2
}
